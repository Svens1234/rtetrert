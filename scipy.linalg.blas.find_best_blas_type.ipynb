{
 "cells": [
  {
   "cell_type": "code",
   "execution_count": 7,
   "id": "8a064521",
   "metadata": {},
   "outputs": [],
   "source": [
    "import scipy.linalg.blas as bla\n",
    "import numpy as np"
   ]
  },
  {
   "cell_type": "code",
   "execution_count": 8,
   "id": "457112af",
   "metadata": {},
   "outputs": [],
   "source": [
    "rng = np.random.default_rng()\n",
    "a = rng.random((10,15))"
   ]
  },
  {
   "cell_type": "code",
   "execution_count": 9,
   "id": "185f7adb",
   "metadata": {},
   "outputs": [
    {
     "data": {
      "text/plain": [
       "('d', dtype('float64'), False)"
      ]
     },
     "execution_count": 9,
     "metadata": {},
     "output_type": "execute_result"
    }
   ],
   "source": [
    "b = np.asfortranarray(a)  # Change the memory layout order\n",
    "bla.find_best_blas_type((a,))"
   ]
  },
  {
   "cell_type": "code",
   "execution_count": 10,
   "id": "739318ea",
   "metadata": {},
   "outputs": [
    {
     "data": {
      "text/plain": [
       "('z', dtype('complex128'), False)"
      ]
     },
     "execution_count": 10,
     "metadata": {},
     "output_type": "execute_result"
    }
   ],
   "source": [
    "bla.find_best_blas_type((a*1j,))"
   ]
  },
  {
   "cell_type": "code",
   "execution_count": 11,
   "id": "89c3016e",
   "metadata": {},
   "outputs": [
    {
     "data": {
      "text/plain": [
       "('d', dtype('float64'), True)"
      ]
     },
     "execution_count": 11,
     "metadata": {},
     "output_type": "execute_result"
    }
   ],
   "source": [
    "bla.find_best_blas_type((b,))"
   ]
  },
  {
   "cell_type": "code",
   "execution_count": null,
   "id": "6c6d6c90",
   "metadata": {},
   "outputs": [],
   "source": []
  }
 ],
 "metadata": {
  "kernelspec": {
   "display_name": "Python 3 (ipykernel)",
   "language": "python",
   "name": "python3"
  },
  "language_info": {
   "codemirror_mode": {
    "name": "ipython",
    "version": 3
   },
   "file_extension": ".py",
   "mimetype": "text/x-python",
   "name": "python",
   "nbconvert_exporter": "python",
   "pygments_lexer": "ipython3",
   "version": "3.10.5"
  }
 },
 "nbformat": 4,
 "nbformat_minor": 5
}
